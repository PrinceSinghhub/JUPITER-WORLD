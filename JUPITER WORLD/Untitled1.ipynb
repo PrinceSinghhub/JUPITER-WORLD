{
 "cells": [
  {
   "cell_type": "code",
   "execution_count": 1,
   "id": "d8297831",
   "metadata": {},
   "outputs": [
    {
     "name": "stdout",
     "output_type": "stream",
     "text": [
      "Hello Codex Coder\n"
     ]
    }
   ],
   "source": [
    "import os\n",
    "print(\"Hello Codex Coder\")\n"
   ]
  },
  {
   "cell_type": "code",
   "execution_count": 2,
   "id": "60578af2",
   "metadata": {},
   "outputs": [
    {
     "name": "stdout",
     "output_type": "stream",
     "text": [
      "CODEX CODER IN JUPYTER\n",
      "CODEX CODER IN JUPYTER\n",
      "CODEX CODER IN JUPYTER\n",
      "CODEX CODER IN JUPYTER\n",
      "CODEX CODER IN JUPYTER\n",
      "CODEX CODER IN JUPYTER\n",
      "CODEX CODER IN JUPYTER\n",
      "CODEX CODER IN JUPYTER\n",
      "CODEX CODER IN JUPYTER\n",
      "CODEX CODER IN JUPYTER\n"
     ]
    }
   ],
   "source": [
    "for i in range(10):\n",
    "    print(\"CODEX CODER IN JUPYTER\")"
   ]
  },
  {
   "cell_type": "code",
   "execution_count": null,
   "id": "e1b42f19",
   "metadata": {},
   "outputs": [],
   "source": []
  }
 ],
 "metadata": {
  "kernelspec": {
   "display_name": "Python 3 (ipykernel)",
   "language": "python",
   "name": "python3"
  },
  "language_info": {
   "codemirror_mode": {
    "name": "ipython",
    "version": 3
   },
   "file_extension": ".py",
   "mimetype": "text/x-python",
   "name": "python",
   "nbconvert_exporter": "python",
   "pygments_lexer": "ipython3",
   "version": "3.8.5"
  }
 },
 "nbformat": 4,
 "nbformat_minor": 5
}
