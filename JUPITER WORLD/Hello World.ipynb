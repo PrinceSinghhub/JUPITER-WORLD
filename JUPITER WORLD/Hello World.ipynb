{
 "cells": [
  {
   "cell_type": "code",
   "execution_count": 1,
   "id": "477a4258",
   "metadata": {},
   "outputs": [
    {
     "name": "stdout",
     "output_type": "stream",
     "text": [
      "Hello,CODEX CODER\n",
      "Hello,CODEX CODER\n",
      "Hello,CODEX CODER\n",
      "Hello,CODEX CODER\n",
      "Hello,CODEX CODER\n",
      "Hello,CODEX CODER\n",
      "Hello,CODEX CODER\n",
      "Hello,CODEX CODER\n",
      "Hello,CODEX CODER\n",
      "Hello,CODEX CODER\n"
     ]
    }
   ],
   "source": [
    "for i in range(10):\n",
    "    print(\"Hello,CODEX CODER\")"
   ]
  },
  {
   "cell_type": "code",
   "execution_count": null,
   "id": "aadd3f3f",
   "metadata": {},
   "outputs": [],
   "source": []
  }
 ],
 "metadata": {
  "kernelspec": {
   "display_name": "Python 3 (ipykernel)",
   "language": "python",
   "name": "python3"
  },
  "language_info": {
   "codemirror_mode": {
    "name": "ipython",
    "version": 3
   },
   "file_extension": ".py",
   "mimetype": "text/x-python",
   "name": "python",
   "nbconvert_exporter": "python",
   "pygments_lexer": "ipython3",
   "version": "3.8.5"
  }
 },
 "nbformat": 4,
 "nbformat_minor": 5
}
